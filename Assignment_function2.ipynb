{
 "cells": [
  {
   "cell_type": "markdown",
   "id": "12f35ef0-0e3f-4a67-a6a8-8fd181bc7c35",
   "metadata": {},
   "source": [
    "Q2"
   ]
  },
  {
   "cell_type": "code",
   "execution_count": 1,
   "id": "abce6c77-5a93-4f28-92ae-6412c333eccc",
   "metadata": {},
   "outputs": [],
   "source": [
    "a=[1,2,3,4,5,6,7,8,9,10]"
   ]
  },
  {
   "cell_type": "code",
   "execution_count": 2,
   "id": "c1537d72-7dd9-4bed-bc71-71cc6ca0a120",
   "metadata": {},
   "outputs": [],
   "source": [
    "x= map(lambda b:b**2,a)"
   ]
  },
  {
   "cell_type": "code",
   "execution_count": 4,
   "id": "236c1fd7-dbea-4a65-96a1-7a99690bc6ae",
   "metadata": {},
   "outputs": [
    {
     "data": {
      "text/plain": [
       "[1, 4, 9, 16, 25, 36, 49, 64, 81, 100]"
      ]
     },
     "execution_count": 4,
     "metadata": {},
     "output_type": "execute_result"
    }
   ],
   "source": [
    "list(x)"
   ]
  },
  {
   "cell_type": "markdown",
   "id": "363c7976-12d2-4abf-8982-cdc30a59040f",
   "metadata": {},
   "source": [
    "Q3."
   ]
  },
  {
   "cell_type": "code",
   "execution_count": 5,
   "id": "9ce1d05a-3da0-419e-8bbe-d67f4604df09",
   "metadata": {},
   "outputs": [],
   "source": []
  },
  {
   "cell_type": "code",
   "execution_count": 16,
   "id": "c2f3f6ef-75e2-4017-b5cd-c0e54716e9c4",
   "metadata": {},
   "outputs": [],
   "source": [
    "a=str(a)"
   ]
  },
  {
   "cell_type": "code",
   "execution_count": 17,
   "id": "e5cc5853-69a0-4806-9ed7-043a2fadac70",
   "metadata": {},
   "outputs": [],
   "source": [
    "x= map(lambda b:tuple(b),a)"
   ]
  },
  {
   "cell_type": "markdown",
   "id": "6f068d1e-8eb7-4c13-9675-b683f5e5ae93",
   "metadata": {},
   "source": [
    "Q4."
   ]
  },
  {
   "cell_type": "code",
   "execution_count": 30,
   "id": "700fc382-924b-4f72-b00d-34f47941db60",
   "metadata": {},
   "outputs": [],
   "source": [
    "a=[]\n",
    "for i in range(1,25):\n",
    "    a.append(i)"
   ]
  },
  {
   "cell_type": "code",
   "execution_count": 32,
   "id": "c4f1602b-c866-4d7c-b5bd-631b9fea6d97",
   "metadata": {},
   "outputs": [
    {
     "data": {
      "text/plain": [
       "620448401733239439360000"
      ]
     },
     "execution_count": 32,
     "metadata": {},
     "output_type": "execute_result"
    }
   ],
   "source": [
    "from functools import reduce\n",
    "reduce(lambda x,y: x*y,a)"
   ]
  },
  {
   "cell_type": "markdown",
   "id": "6a9abe90-5a4a-4289-bd83-734de16500d6",
   "metadata": {},
   "source": [
    "Q5."
   ]
  },
  {
   "cell_type": "code",
   "execution_count": 47,
   "id": "288e67b0-5552-4262-ba7d-529bf42af218",
   "metadata": {},
   "outputs": [],
   "source": [
    "a=[2, 3, 6, 9, 27, 60, 90, 120, 55, 46]"
   ]
  },
  {
   "cell_type": "code",
   "execution_count": 48,
   "id": "ec21029e-b19b-44e5-a1ab-7f498e746677",
   "metadata": {},
   "outputs": [],
   "source": [
    "b=filter(lambda x: x%2==0 and x%3==0,a)"
   ]
  },
  {
   "cell_type": "code",
   "execution_count": 49,
   "id": "b9d4cd83-38c8-4d2c-9804-60b0a136a57d",
   "metadata": {},
   "outputs": [
    {
     "data": {
      "text/plain": [
       "[6, 60, 90, 120]"
      ]
     },
     "execution_count": 49,
     "metadata": {},
     "output_type": "execute_result"
    }
   ],
   "source": [
    "list(b)"
   ]
  },
  {
   "cell_type": "markdown",
   "id": "d8056a84-c067-4f8c-9bfc-26bb81631a60",
   "metadata": {},
   "source": [
    "Q6."
   ]
  },
  {
   "cell_type": "code",
   "execution_count": null,
   "id": "7024f736-9e25-4540-8d6e-154945372036",
   "metadata": {},
   "outputs": [],
   "source": []
  },
  {
   "cell_type": "code",
   "execution_count": 104,
   "id": "cb2c4937-fac1-4186-a57c-5c0320776294",
   "metadata": {},
   "outputs": [],
   "source": [
    "a=['python', 'php', 'aba', 'radar', 'level']"
   ]
  },
  {
   "cell_type": "code",
   "execution_count": 105,
   "id": "1aa981b1-f217-40a8-9bd5-05ceb3a5fb9d",
   "metadata": {},
   "outputs": [],
   "source": [
    "def palindorme(lst):\n",
    "    ans=[]\n",
    "    for i in lst:\n",
    "        if i==i[::-1]:\n",
    "          ans.append(i) \n",
    "    return ans\n",
    "        "
   ]
  },
  {
   "cell_type": "code",
   "execution_count": 106,
   "id": "c1c536f7-4ce4-440d-ba44-2d7c45104707",
   "metadata": {},
   "outputs": [
    {
     "data": {
      "text/plain": [
       "['php', 'aba', 'radar', 'level']"
      ]
     },
     "execution_count": 106,
     "metadata": {},
     "output_type": "execute_result"
    }
   ],
   "source": [
    "palindorme(a)"
   ]
  },
  {
   "cell_type": "code",
   "execution_count": 107,
   "id": "f7dcd282-3103-4e90-86ee-fdb0188b508d",
   "metadata": {},
   "outputs": [
    {
     "data": {
      "text/plain": [
       "['python', 'php', 'aba', 'radar', 'level']"
      ]
     },
     "execution_count": 107,
     "metadata": {},
     "output_type": "execute_result"
    }
   ],
   "source": [
    "list(filter(lambda ans: i==i[::-1],a))"
   ]
  },
  {
   "cell_type": "code",
   "execution_count": null,
   "id": "6ff17638-3d7f-4ede-a7ec-bccd45ba1b71",
   "metadata": {},
   "outputs": [],
   "source": []
  },
  {
   "cell_type": "markdown",
   "id": "7569c09c-a0ad-4c84-941d-884c99433a20",
   "metadata": {},
   "source": [
    "Q1"
   ]
  },
  {
   "cell_type": "code",
   "execution_count": 56,
   "id": "571b663f-96f3-47a2-8105-587ed5a3697f",
   "metadata": {},
   "outputs": [],
   "source": [
    "a=[('Sachin Tendulkar', 34357), ('Ricky Ponting', 27483), ('Jack Kallis', 25534), ('Virat Kohli', 24936)]"
   ]
  },
  {
   "cell_type": "code",
   "execution_count": 61,
   "id": "4120a7f3-4ce5-46a0-9bdb-e549e2d690fa",
   "metadata": {},
   "outputs": [],
   "source": [
    "b=lambda x: x.sort()"
   ]
  },
  {
   "cell_type": "code",
   "execution_count": null,
   "id": "1c9308fc-a57b-4335-acf7-a27949bfeefc",
   "metadata": {},
   "outputs": [],
   "source": []
  }
 ],
 "metadata": {
  "kernelspec": {
   "display_name": "Python 3 (ipykernel)",
   "language": "python",
   "name": "python3"
  },
  "language_info": {
   "codemirror_mode": {
    "name": "ipython",
    "version": 3
   },
   "file_extension": ".py",
   "mimetype": "text/x-python",
   "name": "python",
   "nbconvert_exporter": "python",
   "pygments_lexer": "ipython3",
   "version": "3.10.8"
  }
 },
 "nbformat": 4,
 "nbformat_minor": 5
}
