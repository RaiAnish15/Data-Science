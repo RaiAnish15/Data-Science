{
 "cells": [
  {
   "cell_type": "markdown",
   "id": "440f1b7c-f23e-483d-a70a-5c47de7c5c33",
   "metadata": {},
   "source": [
    "Q1."
   ]
  },
  {
   "cell_type": "code",
   "execution_count": 3,
   "id": "6cd2835e-5a31-4c77-b0c0-384c3733313c",
   "metadata": {},
   "outputs": [],
   "source": [
    "class Vehicle:\n",
    "    def __init__(self,name,age,email_id,roll_no):\n",
    "        self.name_of_vehicle=name_of_vehicle\n",
    "        self.max_speed=max_speed\n",
    "        self.average_of_vehicle=average_of_vehicle\n",
    "        "
   ]
  },
  {
   "cell_type": "markdown",
   "id": "37b2434b-4f72-42ff-a1e1-878a56e5b69c",
   "metadata": {},
   "source": [
    "Q2."
   ]
  },
  {
   "cell_type": "code",
   "execution_count": 4,
   "id": "5504c873-e2b9-4b86-8a6f-de07fbc98f1f",
   "metadata": {},
   "outputs": [],
   "source": [
    "import abc\n",
    "class Vehicle2(Vehicle):\n",
    "    def __init__(self,seating_capacity):\n",
    "        self.seating_capacity=seating_capacity"
   ]
  },
  {
   "cell_type": "markdown",
   "id": "740d7676-4b85-4ca4-9fa4-789d6a23b483",
   "metadata": {},
   "source": [
    "Q3. A multiple inheritence is a when there are many class defined and a master class call all the classes at once. There is no layer formed like in multilayer inheritence."
   ]
  },
  {
   "cell_type": "code",
   "execution_count": 5,
   "id": "95f1a3fa-9f42-467f-877e-8989474f94a7",
   "metadata": {},
   "outputs": [],
   "source": [
    "class class1:\n",
    "    def test_class1(self):\n",
    "        print(\"This is Class1\")"
   ]
  },
  {
   "cell_type": "code",
   "execution_count": 6,
   "id": "e3dfccb0-d7aa-4496-b0d8-8edfac017fa0",
   "metadata": {},
   "outputs": [],
   "source": [
    "class class2:\n",
    "    def test_class2(self):\n",
    "        print(\"This is Class2\")"
   ]
  },
  {
   "cell_type": "code",
   "execution_count": 7,
   "id": "17ece52b-48bf-4d6d-916d-2f0c7a62c5a6",
   "metadata": {},
   "outputs": [],
   "source": [
    "class class3(class1,class2):\n",
    "    def test_class3(self):\n",
    "        print(\"This is Class3\")"
   ]
  },
  {
   "cell_type": "markdown",
   "id": "eeca076a-67c2-4e0a-8e15-5e4caa6b8ec5",
   "metadata": {},
   "source": [
    "Q4.Getters is used in Object-Oriented Programming (OOPS) to access a class's private attributes. Setter is used to set the property's value."
   ]
  },
  {
   "cell_type": "code",
   "execution_count": null,
   "id": "f99ef5b9-ee85-4d59-a905-72d0c6a92006",
   "metadata": {},
   "outputs": [],
   "source": []
  }
 ],
 "metadata": {
  "kernelspec": {
   "display_name": "Python 3 (ipykernel)",
   "language": "python",
   "name": "python3"
  },
  "language_info": {
   "codemirror_mode": {
    "name": "ipython",
    "version": 3
   },
   "file_extension": ".py",
   "mimetype": "text/x-python",
   "name": "python",
   "nbconvert_exporter": "python",
   "pygments_lexer": "ipython3",
   "version": "3.10.8"
  }
 },
 "nbformat": 4,
 "nbformat_minor": 5
}
