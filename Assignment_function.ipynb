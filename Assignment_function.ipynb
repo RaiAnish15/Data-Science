{
 "cells": [
  {
   "cell_type": "markdown",
   "id": "50382686-f3b1-4c79-8038-24e9d3d238be",
   "metadata": {},
   "source": [
    "Q1. def keyword is used to create a function."
   ]
  },
  {
   "cell_type": "code",
   "execution_count": 31,
   "id": "f122cfe7-fc42-4dd1-8180-efecf6a80795",
   "metadata": {},
   "outputs": [],
   "source": [
    "def odd_value(n,m):\n",
    "    l=[]\n",
    "    for i in range(n,m):\n",
    "        if i%2!=0:\n",
    "            l.append(i)\n",
    "    return l\n",
    "    \n",
    "         "
   ]
  },
  {
   "cell_type": "code",
   "execution_count": 32,
   "id": "d0d258cf-cc7b-4269-8d38-3cebd3c2bad1",
   "metadata": {},
   "outputs": [
    {
     "data": {
      "text/plain": [
       "[1, 3, 5, 7, 9, 11, 13, 15, 17, 19, 21, 23]"
      ]
     },
     "execution_count": 32,
     "metadata": {},
     "output_type": "execute_result"
    }
   ],
   "source": [
    "odd_value(1,25)"
   ]
  },
  {
   "cell_type": "markdown",
   "id": "21bd679a-7ffc-48ca-ab26-680f96c238fa",
   "metadata": {},
   "source": [
    "Q2. We use *args to give any number of inputs in our defined function. The function input is not restricted to a limited number. We use **kwargs to give keys and values like in dictionary"
   ]
  },
  {
   "cell_type": "code",
   "execution_count": 35,
   "id": "525b2d96-97d8-46ec-b7a5-6a2026431415",
   "metadata": {},
   "outputs": [],
   "source": [
    "## Example of *args\n",
    "def test4(*args):\n",
    "    l=[]\n",
    "    for i in args:\n",
    "        if type(i)==tuple:\n",
    "            l.append(i)\n",
    "    return l"
   ]
  },
  {
   "cell_type": "code",
   "execution_count": 36,
   "id": "c7112a3f-0ac5-4f38-95a7-80323c91145d",
   "metadata": {},
   "outputs": [
    {
     "data": {
      "text/plain": [
       "[(1, 2, 3)]"
      ]
     },
     "execution_count": 36,
     "metadata": {},
     "output_type": "execute_result"
    }
   ],
   "source": [
    "test4(1,2,3,4,5,[3,4,5,6],(1,2,3))"
   ]
  },
  {
   "cell_type": "code",
   "execution_count": 37,
   "id": "686db53a-0a0e-4426-9ad5-96dc97b513c1",
   "metadata": {},
   "outputs": [],
   "source": [
    "## Example of **kwargs\n",
    "def test5(**kwargs):\n",
    "    for i in kwargs.keys():\n",
    "        if type(kwargs[i])== list:\n",
    "            return i,kwargs[i]"
   ]
  },
  {
   "cell_type": "code",
   "execution_count": 38,
   "id": "b98a7d75-95b6-4a27-93ba-d690118adc3e",
   "metadata": {},
   "outputs": [
    {
     "data": {
      "text/plain": [
       "('c', [1, 2, 3, 4, 5])"
      ]
     },
     "execution_count": 38,
     "metadata": {},
     "output_type": "execute_result"
    }
   ],
   "source": [
    "test5(a=5,b=\"Anish\",c=[1,2,3,4,5],d=(9,8,7,6,5))"
   ]
  },
  {
   "cell_type": "markdown",
   "id": "361f22b2-b201-42c4-ae3f-f97f7dd9180c",
   "metadata": {},
   "source": [
    "Q4. A Python generator function is used to declare a function that acts as an iterator,It is a easier way to create iterators. Yield keyword is used to generate a generator function. It acts as an iterator."
   ]
  },
  {
   "cell_type": "code",
   "execution_count": null,
   "id": "c1f3cc31-2a83-454a-a908-a1e3cc3e2a47",
   "metadata": {},
   "outputs": [],
   "source": [
    "#Example of generator function:\n",
    "def fib(n):\n",
    "    a,b=0,1\n",
    "    for i in range(n):\n",
    "        yield a\n",
    "        a,b=b,a+b"
   ]
  },
  {
   "cell_type": "code",
   "execution_count": null,
   "id": "c571735d-a10d-484c-a23e-4d607188f629",
   "metadata": {},
   "outputs": [],
   "source": [
    "Q5."
   ]
  },
  {
   "cell_type": "code",
   "execution_count": 40,
   "id": "6846afef-afd6-4264-a8e1-c2e33af4b0b3",
   "metadata": {},
   "outputs": [],
   "source": [
    "def prime(n):\n",
    "    for i in range(n):\n",
    "        if i%2!=0 and i%3!=0:\n",
    "            yield i"
   ]
  },
  {
   "cell_type": "code",
   "execution_count": 44,
   "id": "9f3a00fe-0ddd-4a45-9843-631d9b0e812b",
   "metadata": {},
   "outputs": [
    {
     "data": {
      "text/plain": [
       "[1, 5, 7]"
      ]
     },
     "execution_count": 44,
     "metadata": {},
     "output_type": "execute_result"
    }
   ],
   "source": [
    "list(prime(1000))"
   ]
  },
  {
   "cell_type": "code",
   "execution_count": 45,
   "id": "5bf382ac-74ca-42b6-8aae-4445323909e8",
   "metadata": {},
   "outputs": [],
   "source": [
    "number = iter(prime(10)) \n",
    "item = next(number) "
   ]
  },
  {
   "cell_type": "code",
   "execution_count": null,
   "id": "518b3497-a2e7-4d4b-8dc9-de1ac162d8f6",
   "metadata": {},
   "outputs": [],
   "source": []
  }
 ],
 "metadata": {
  "kernelspec": {
   "display_name": "Python 3 (ipykernel)",
   "language": "python",
   "name": "python3"
  },
  "language_info": {
   "codemirror_mode": {
    "name": "ipython",
    "version": 3
   },
   "file_extension": ".py",
   "mimetype": "text/x-python",
   "name": "python",
   "nbconvert_exporter": "python",
   "pygments_lexer": "ipython3",
   "version": "3.10.8"
  }
 },
 "nbformat": 4,
 "nbformat_minor": 5
}
