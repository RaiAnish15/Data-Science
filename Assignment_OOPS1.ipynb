{
 "cells": [
  {
   "cell_type": "markdown",
   "id": "d42ceced-3a4a-43d6-83d3-3a5593aa860f",
   "metadata": {},
   "source": [
    "Q1.Class is the blueprint or skeleton of the of objects. Objects are the collection of variables and functions"
   ]
  },
  {
   "cell_type": "code",
   "execution_count": 1,
   "id": "6d9f5d1d-f58c-4c83-89e8-96cd7a2f381a",
   "metadata": {},
   "outputs": [],
   "source": [
    "class student_details:\n",
    "    def __init__(self,name,age,email_id,roll_no):\n",
    "        self.name=name\n",
    "        self.age=age\n",
    "        self.email_id=email_id\n",
    "        self.roll_no=roll_no"
   ]
  },
  {
   "cell_type": "code",
   "execution_count": 2,
   "id": "ac231716-6a7f-40be-b459-683cbde01508",
   "metadata": {},
   "outputs": [],
   "source": [
    "Anish=student_details(\"Anish\",29,\"anishrai412@gmail.com\",\"phph190006\")"
   ]
  },
  {
   "cell_type": "markdown",
   "id": "d11fb701-a73c-478a-962f-f972fbaa6d4f",
   "metadata": {},
   "source": [
    "In the above example student_details is the class created to enter the details of the student and Anish is the object which contains the list of details entered"
   ]
  },
  {
   "cell_type": "markdown",
   "id": "c0fda68c-afe3-432e-8602-9e27be3545e7",
   "metadata": {},
   "source": [
    "Q2. Abstraction, Encapsulation, Inheritance, Polymorphism."
   ]
  },
  {
   "cell_type": "markdown",
   "id": "3f2e99f6-799d-45fc-a850-f6779703acbe",
   "metadata": {},
   "source": [
    "Q3. __init__ is a constructor. It is automatically called when a object of a class is created. The __init__ method allows to initialize the attributes of an object."
   ]
  },
  {
   "cell_type": "code",
   "execution_count": 3,
   "id": "bb8fea92-762d-4192-a6e0-6db86d784e6c",
   "metadata": {},
   "outputs": [],
   "source": [
    "class emp_details:\n",
    "    def __init__(self,name,age,emp_id):\n",
    "        self.name=name\n",
    "        self.age=age\n",
    "        self.emp_id=emp_id\n",
    "       "
   ]
  },
  {
   "cell_type": "markdown",
   "id": "46eb4915-2617-4d81-b04c-f5539265431c",
   "metadata": {},
   "source": [
    "Q4. self is used as a pointer or represents the instance of the class. We can access the attributes and methods of the class by using self. It binds the attributes with the given arguments. "
   ]
  },
  {
   "cell_type": "markdown",
   "id": "e0876a65-3f09-4b62-a222-4a7196e8bbc6",
   "metadata": {},
   "source": [
    "Q5. Inheritence allows us to use the methods and properties of another class. Parent class is the main class from where the properties are being inherited and child class is the one who inherits the properties of the other classes. Multiple and multilayer interent class."
   ]
  },
  {
   "cell_type": "code",
   "execution_count": null,
   "id": "e769c961-69ac-4671-8e5b-f991ebe72173",
   "metadata": {},
   "outputs": [],
   "source": []
  }
 ],
 "metadata": {
  "kernelspec": {
   "display_name": "Python 3 (ipykernel)",
   "language": "python",
   "name": "python3"
  },
  "language_info": {
   "codemirror_mode": {
    "name": "ipython",
    "version": 3
   },
   "file_extension": ".py",
   "mimetype": "text/x-python",
   "name": "python",
   "nbconvert_exporter": "python",
   "pygments_lexer": "ipython3",
   "version": "3.10.8"
  }
 },
 "nbformat": 4,
 "nbformat_minor": 5
}
