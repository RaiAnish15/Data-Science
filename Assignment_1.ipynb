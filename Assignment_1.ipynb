{
 "cells": [
  {
   "cell_type": "code",
   "execution_count": null,
   "id": "5f832834-f423-4690-8563-ce048560c12d",
   "metadata": {},
   "outputs": [],
   "source": [
    "##Solution to Assignment 1"
   ]
  },
  {
   "cell_type": "code",
   "execution_count": null,
   "id": "362d7248-8189-40c7-a6d9-3af235ce4037",
   "metadata": {},
   "outputs": [],
   "source": [
    "# Solution to Q1\n",
    "Name='Anish Rai'; #string type variable\n",
    "Mutable = ['Anish', 28,'M', 1994]; #list type variable\n",
    "decimal= 55.67 #Float type variable\n",
    "immutable= ('Anish', 28, 'M', 1994); #tuple type variable\n",
    "    "
   ]
  },
  {
   "cell_type": "code",
   "execution_count": 32,
   "id": "a42d82ad-85d2-46e0-b78a-f0df04df237e",
   "metadata": {},
   "outputs": [],
   "source": [
    "# Solution to Q2\n",
    "\n",
    "#var1 is a string type variable\n",
    "#var2 is a string type variable\n",
    "#var3 is a list type variable\n",
    "#var4 is a float type variable\n"
   ]
  },
  {
   "cell_type": "code",
   "execution_count": 38,
   "id": "38b64b9f-ed7d-44d3-9de3-0fbb0bbb80bc",
   "metadata": {},
   "outputs": [],
   "source": [
    "#Solution to Q3\n",
    "# / gives the quotient term of the division\n",
    "# % gives the remainder term of the division when the quotient is in whole no.\n",
    "# // gives the smallest possible quotient term e.g: 9//2 will give 4 as the answer.\n",
    "# ** is used as power e.g: 9**2 gives 81 as the answer."
   ]
  },
  {
   "cell_type": "code",
   "execution_count": 60,
   "id": "bae4a2f1-2548-4d7b-9648-69315e706474",
   "metadata": {},
   "outputs": [
    {
     "name": "stdout",
     "output_type": "stream",
     "text": [
      "Anish is a <class 'str'> data type\n",
      "Rai is a <class 'str'> data type\n",
      "Age is a <class 'str'> data type\n",
      "28 is a <class 'int'> data type\n",
      "67.898 is a <class 'float'> data type\n",
      "PW is a <class 'str'> data type\n",
      "DOB is a <class 'str'> data type\n",
      "marks is a <class 'str'> data type\n",
      "89.8 is a <class 'float'> data type\n",
      "Thank you is a <class 'str'> data type\n"
     ]
    }
   ],
   "source": [
    "#Solution to Q4\n",
    "Details = ['Anish', 'Rai', 'Age', 28, 67.898, 'PW' , 'DOB', 'marks', 89.8, 'Thank you'];\n",
    "for i in Details:\n",
    "    print(i, \"is a\", type(i), 'data type')\n",
    "  \n",
    "\n"
   ]
  },
  {
   "cell_type": "code",
   "execution_count": 28,
   "id": "ec203782-758b-4922-9d7c-4b1657586d96",
   "metadata": {},
   "outputs": [
    {
     "name": "stdin",
     "output_type": "stream",
     "text": [
      " 500\n",
      " 2\n"
     ]
    },
    {
     "name": "stdout",
     "output_type": "stream",
     "text": [
      "500 is divisible by 2\n",
      "It is divisible 250.0 times\n"
     ]
    }
   ],
   "source": [
    "#Solution to Q5\n",
    "i=0;\n",
    "A=int(input());\n",
    "B=int(input());\n",
    "\n",
    "while i<1:\n",
    "    if A%B==0:\n",
    "        print(A, 'is divisible by', B)\n",
    "        print('It is divisible', A/B, 'times')\n",
    "        i += 1\n",
    "    else:\n",
    "        print(A, 'is not divisible by', B)\n",
    "        i += 1\n",
    "\n"
   ]
  },
  {
   "cell_type": "code",
   "execution_count": 8,
   "id": "a27110b5-6238-4dbd-97fa-79614e4a1d4a",
   "metadata": {},
   "outputs": [
    {
     "name": "stdout",
     "output_type": "stream",
     "text": [
      "2 is not divisible by 3\n",
      "5 is not divisible by 3\n",
      "7 is not divisible by 3\n",
      "8 is not divisible by 3\n",
      "9 is divisible by 3\n",
      "10 is not divisible by 3\n",
      "123 is divisible by 3\n",
      "12 is divisible by 3\n",
      "32 is not divisible by 3\n",
      "45 is divisible by 3\n",
      "56 is not divisible by 3\n",
      "67 is not divisible by 3\n",
      "78 is divisible by 3\n",
      "98 is not divisible by 3\n",
      "1234 is not divisible by 3\n",
      "23456 is not divisible by 3\n",
      "234 is divisible by 3\n",
      "221 is not divisible by 3\n",
      "345 is divisible by 3\n",
      "43 is not divisible by 3\n",
      "432 is divisible by 3\n",
      "654 is divisible by 3\n",
      "78 is divisible by 3\n",
      "97 is not divisible by 3\n",
      "55 is not divisible by 3\n",
      "33 is divisible by 3\n",
      "22 is not divisible by 3\n",
      "11 is not divisible by 3\n",
      "88 is not divisible by 3\n",
      "99 is divisible by 3\n",
      "909 is divisible by 3\n",
      "878 is not divisible by 3\n",
      "767 is not divisible by 3\n",
      "656 is not divisible by 3\n",
      "545 is not divisible by 3\n",
      "545 is not divisible by 3\n",
      "345 is divisible by 3\n",
      "435 is divisible by 3\n",
      "674 is not divisible by 3\n",
      "21 is divisible by 3\n",
      "67 is not divisible by 3\n",
      "446 is not divisible by 3\n",
      "786 is divisible by 3\n",
      "589 is not divisible by 3\n",
      "985 is not divisible by 3\n",
      "78 is divisible by 3\n",
      "984 is divisible by 3\n"
     ]
    }
   ],
   "source": [
    "#Solution to Q6\n",
    "numbers=[2,5,7,8,9,10,123,12,32,45,56,67,78,98,1234,23456,234,221,345,43,432,654,78,97,55,33,22,11,88,99,909,878,767,656,545,545,345,435,674,21,67,446,786,589,985,78,984];\n",
    "for i in numbers:\n",
    "    if i%3==0:\n",
    "        print(i, 'is divisible by 3')\n",
    "    else:\n",
    "        print(i, 'is not divisible by 3')\n",
    "        "
   ]
  },
  {
   "cell_type": "code",
   "execution_count": 13,
   "id": "e7b0f943-20d0-438a-8253-05cb33e530e9",
   "metadata": {},
   "outputs": [],
   "source": [
    "# Solution to Q7\n",
    "# Mutable datatypes are those datatypes which can be modified, i.e., new variable can be added or old can be removed without modifying the variable datatype.\n",
    "# Immutable datatype cannot be modified once it is formed. If we try to modify then the new variable gets stored in the old variable name\n",
    "data=[1,3,4]; #list datatype mutable datatype\n",
    "data[1]=5; # The variable in the 1st index gets replaced by 5\n",
    "data1=(1,3,4); #immutable datatype\n"
   ]
  },
  {
   "cell_type": "code",
   "execution_count": null,
   "id": "1d9413a7-f9e1-4772-8eba-ffe0350a9225",
   "metadata": {},
   "outputs": [],
   "source": []
  }
 ],
 "metadata": {
  "kernelspec": {
   "display_name": "Python 3 (ipykernel)",
   "language": "python",
   "name": "python3"
  },
  "language_info": {
   "codemirror_mode": {
    "name": "ipython",
    "version": 3
   },
   "file_extension": ".py",
   "mimetype": "text/x-python",
   "name": "python",
   "nbconvert_exporter": "python",
   "pygments_lexer": "ipython3",
   "version": "3.10.8"
  }
 },
 "nbformat": 4,
 "nbformat_minor": 5
}
