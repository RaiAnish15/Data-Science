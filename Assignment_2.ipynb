{
 "cells": [
  {
   "cell_type": "markdown",
   "id": "2c03d93a-c5ea-4160-bb5f-6e0ef3037df9",
   "metadata": {},
   "source": [
    "Q1. We comment the code in python by giving # symbol. There are different types of comments like single line comment, multiline line comment"
   ]
  },
  {
   "cell_type": "markdown",
   "id": "83bb7c42-1d3b-4cbf-915a-3079f5b0e99b",
   "metadata": {},
   "source": [
    "Q2.Variables are identifiers to hold the value and give particluar name for the value. We can directly declare the variale in the code with a '=' symbol. For ex. even_no=2"
   ]
  },
  {
   "cell_type": "markdown",
   "id": "c68cbecb-6395-46f6-9965-2802cba298e7",
   "metadata": {},
   "source": [
    "Q3. We convert the variable into another type by typecasting. Ex. a=str(6). a will be of str type datatype."
   ]
  },
  {
   "cell_type": "markdown",
   "id": "5a2fda7f-a3ae-45c5-a7de-ea31f9aa6399",
   "metadata": {},
   "source": [
    "Q4. Open a command line and type the word python followed by the path to your script file. Then write the code and press enter"
   ]
  },
  {
   "cell_type": "markdown",
   "id": "4b1df87e-ecb0-485f-b481-d341df087f80",
   "metadata": {},
   "source": [
    "Q5.\n"
   ]
  },
  {
   "cell_type": "code",
   "execution_count": 7,
   "id": "07d5b8ba-3784-455f-bc0a-7c1ac1b94810",
   "metadata": {},
   "outputs": [
    {
     "data": {
      "text/plain": [
       "[2, 3]"
      ]
     },
     "execution_count": 7,
     "metadata": {},
     "output_type": "execute_result"
    }
   ],
   "source": [
    "my_list=[1,2,3,4,5]\n",
    "my_list[1:3]"
   ]
  },
  {
   "cell_type": "markdown",
   "id": "e90a6929-c43a-40d3-a896-240bce20cabe",
   "metadata": {},
   "source": [
    "Q6. Complex number is a combination of a real and an imaginary part and is written as a+ib where a is the real part and b is the imaginary part. Z=a+bj."
   ]
  },
  {
   "cell_type": "markdown",
   "id": "456bf44b-b1d9-413b-ad22-e2bd74c73679",
   "metadata": {},
   "source": [
    "Q7."
   ]
  },
  {
   "cell_type": "code",
   "execution_count": 18,
   "id": "37df8080-049b-4c12-bb90-5f1fd695abe6",
   "metadata": {},
   "outputs": [],
   "source": [
    "age = 25"
   ]
  },
  {
   "cell_type": "markdown",
   "id": "867a4885-ad2f-41f8-85b3-474adaf45e0b",
   "metadata": {},
   "source": [
    "Q8. price= 9.99\n",
    "price belongs to float type datatype"
   ]
  },
  {
   "cell_type": "markdown",
   "id": "c7133f03-302e-4106-9d90-91161a164033",
   "metadata": {},
   "source": [
    "Q9. Name= \"Anish Rai\"\n",
    "\n",
    "Name"
   ]
  },
  {
   "cell_type": "code",
   "execution_count": null,
   "id": "7fd3a3d5-aa5f-4d4d-a504-9a987c1e1e3b",
   "metadata": {},
   "outputs": [],
   "source": [
    "Q10."
   ]
  },
  {
   "cell_type": "code",
   "execution_count": 27,
   "id": "f7d6aa96-4195-4673-8541-ec58beaf0527",
   "metadata": {},
   "outputs": [],
   "source": [
    "name=\"Hello World\"\n",
    "final=name[6:]"
   ]
  },
  {
   "cell_type": "code",
   "execution_count": 28,
   "id": "4c802c96-2026-4401-b833-30e35ae4975b",
   "metadata": {},
   "outputs": [
    {
     "data": {
      "text/plain": [
       "'World'"
      ]
     },
     "execution_count": 28,
     "metadata": {},
     "output_type": "execute_result"
    }
   ],
   "source": [
    "final"
   ]
  },
  {
   "cell_type": "code",
   "execution_count": null,
   "id": "711ce1a9-56a9-42ba-966a-735f7f686673",
   "metadata": {},
   "outputs": [],
   "source": []
  }
 ],
 "metadata": {
  "kernelspec": {
   "display_name": "Python 3 (ipykernel)",
   "language": "python",
   "name": "python3"
  },
  "language_info": {
   "codemirror_mode": {
    "name": "ipython",
    "version": 3
   },
   "file_extension": ".py",
   "mimetype": "text/x-python",
   "name": "python",
   "nbconvert_exporter": "python",
   "pygments_lexer": "ipython3",
   "version": "3.10.8"
  }
 },
 "nbformat": 4,
 "nbformat_minor": 5
}
