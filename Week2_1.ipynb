{
 "cells": [
  {
   "cell_type": "code",
   "execution_count": 11,
   "id": "f0b6f9bd-2113-4e4a-8ecd-9f13d07c4011",
   "metadata": {},
   "outputs": [
    {
     "name": "stdout",
     "output_type": "stream",
     "text": [
      "My Age is: 29\n"
     ]
    }
   ],
   "source": [
    "Age=29\n",
    "name= \"Anish\"\n",
    "print(\"My Age is:\",Age)"
   ]
  },
  {
   "cell_type": "code",
   "execution_count": 12,
   "id": "232f35e5-a353-4c98-8501-90c1f17c5957",
   "metadata": {},
   "outputs": [
    {
     "name": "stdout",
     "output_type": "stream",
     "text": [
      "My name is Anish and age is 29\n"
     ]
    }
   ],
   "source": [
    "#with fstring\n",
    "print(f\"My name is {name} and age is {Age}\")"
   ]
  },
  {
   "cell_type": "code",
   "execution_count": 13,
   "id": "240c442c-cc24-46f0-acac-58085ce19648",
   "metadata": {},
   "outputs": [
    {
     "name": "stdout",
     "output_type": "stream",
     "text": [
      "My name is Anish and age is 29\n"
     ]
    }
   ],
   "source": [
    "#with format\n",
    "\n",
    "print(\"My name is {} and age is {}\".format(name,Age))"
   ]
  },
  {
   "cell_type": "code",
   "execution_count": 15,
   "id": "00e03cac-0884-4500-93c4-7b5ff7b8412f",
   "metadata": {},
   "outputs": [
    {
     "name": "stdout",
     "output_type": "stream",
     "text": [
      "My age is 29. I have completed M.Sc with the name Anish\n"
     ]
    }
   ],
   "source": [
    "#test\n",
    "degree= \"M.Sc\"\n",
    "print(\"My age is {A}. I have completed {B} with the name {C}\".format(A=Age,B=degree,C=name))"
   ]
  },
  {
   "cell_type": "code",
   "execution_count": null,
   "id": "239f686c-b8db-47e5-8b56-409406e6fe7e",
   "metadata": {},
   "outputs": [],
   "source": [
    "##Control flow\n",
    "##Decision making Statements"
   ]
  },
  {
   "cell_type": "code",
   "execution_count": 28,
   "id": "ab9ffd2b-9de8-441b-b46f-749d6ef978d8",
   "metadata": {},
   "outputs": [
    {
     "name": "stdin",
     "output_type": "stream",
     "text": [
      "Enter your Age 23\n"
     ]
    },
    {
     "name": "stdout",
     "output_type": "stream",
     "text": [
      "You can vote as your age is above 18 .i.e., 23\n"
     ]
    }
   ],
   "source": [
    "Age=int(input(\"Enter your Age\"))\n",
    "if Age>=18:\n",
    "    print(\"You can vote as your age is above 18 .i.e., {}\".format(Age))\n",
    "else:\n",
    "    print (\"You are underage to vote as you are {}\".format(Age))"
   ]
  },
  {
   "cell_type": "code",
   "execution_count": 35,
   "id": "06bc9f4b-40b3-4eb7-b714-911223f2f8b3",
   "metadata": {},
   "outputs": [
    {
     "name": "stdin",
     "output_type": "stream",
     "text": [
      "Enter your age 55\n"
     ]
    },
    {
     "name": "stdout",
     "output_type": "stream",
     "text": [
      "You are not a young blood\n"
     ]
    }
   ],
   "source": [
    "Age=int(input(\"Enter your age\"))\n",
    "if Age>=18 and Age <=45:\n",
    "    print (\"You are a young blood\")\n",
    "else:\n",
    "    print(\"You are not a young blood\")"
   ]
  },
  {
   "cell_type": "code",
   "execution_count": 57,
   "id": "b0362c5f-4890-4289-a61d-5b83b08632d8",
   "metadata": {},
   "outputs": [
    {
     "name": "stdin",
     "output_type": "stream",
     "text": [
      "Enter a product price 2222\n"
     ]
    },
    {
     "name": "stdout",
     "output_type": "stream",
     "text": [
      "Congratulation your are our lucky winner\n",
      "You have a discount of 30% and your final price is 1555.3999999999999\n"
     ]
    }
   ],
   "source": [
    "Amount=int(input(\"Enter a product price\"))\n",
    "if Amount<=1000:\n",
    "    FA= 0.9*Amount\n",
    "    print(\"You have a discount of 10% and your final price is {}\".format(FA))\n",
    "elif Amount>=1000 and Amount<2000:\n",
    "    FA= 0.8*Amount\n",
    "    print(\"You have a discount of 20% and your final price is {}\".format(FA))\n",
    "elif Amount>=2000 and Amount<3000:\n",
    "    FA= 0.7*Amount\n",
    "    if Amount == 2222:\n",
    "        print(\"Congratulation your are our lucky winner\")\n",
    "    print(\"You have a discount of 30% and your final price is {}\".format(FA))\n",
    "elif Amount>=3000 and Amount<4000:\n",
    "    FA= 0.6*Amount\n",
    "    print(\"You have a discount of 40% and your final price is {}\".format(FA))\n",
    "else:\n",
    "    FA=0.5*Amount\n",
    "    print(\"You have a discount of 50% and your final price is {}\".format(FA))"
   ]
  },
  {
   "cell_type": "code",
   "execution_count": null,
   "id": "bd6cd6bc-458c-4719-8967-6edb74de033c",
   "metadata": {},
   "outputs": [],
   "source": []
  }
 ],
 "metadata": {
  "kernelspec": {
   "display_name": "Python 3 (ipykernel)",
   "language": "python",
   "name": "python3"
  },
  "language_info": {
   "codemirror_mode": {
    "name": "ipython",
    "version": 3
   },
   "file_extension": ".py",
   "mimetype": "text/x-python",
   "name": "python",
   "nbconvert_exporter": "python",
   "pygments_lexer": "ipython3",
   "version": "3.10.8"
  }
 },
 "nbformat": 4,
 "nbformat_minor": 5
}
